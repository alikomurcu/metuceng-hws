{
 "cells": [
  {
   "attachments": {},
   "cell_type": "markdown",
   "metadata": {},
   "source": [
    "**Name**: Ali KÖMÜRCÜ\n",
    "\n",
    "**Student Id**: 2380699"
   ]
  },
  {
   "cell_type": "code",
   "execution_count": 286,
   "metadata": {
    "pycharm": {
     "is_executing": true
    }
   },
   "outputs": [],
   "source": [
    "import numpy as np\n",
    "import cv2 as cv\n",
    "from scipy import ndimage\n",
    "IMAGES_PATH = \"images/\"\n",
    "OUTPUT_PATH = \"outputs/\""
   ]
  },
  {
   "cell_type": "code",
   "execution_count": 287,
   "metadata": {
    "pycharm": {
     "is_executing": true
    }
   },
   "outputs": [],
   "source": [
    "# Read images\n",
    "agac = cv.imread(IMAGES_PATH + \"agac.png\", cv.IMREAD_GRAYSCALE)\n",
    "agacRgb = cv.imread(IMAGES_PATH + \"agac.png\")\n",
    "agacrotated = cv.imread(IMAGES_PATH + \"agacrotated.png\", cv.IMREAD_GRAYSCALE)\n",
    "agacrotatedRgb = cv.imread(IMAGES_PATH + \"agacrotated.png\")\n",
    "\n",
    "chessboard = cv.imread(IMAGES_PATH + \"chessboard.png\", cv.IMREAD_GRAYSCALE)\n",
    "chessboardRgb = cv.imread(IMAGES_PATH + \"chessboard.png\")\n",
    "chessboardrotated = cv.imread(IMAGES_PATH + \"chessboardrotated.png\", cv.IMREAD_GRAYSCALE)\n",
    "chessboardrotatedRgb = cv.imread(IMAGES_PATH + \"chessboardrotated.png\")\n",
    "\n",
    "lab = cv.imread(IMAGES_PATH + \"lab.png\", cv.IMREAD_GRAYSCALE)\n",
    "labRgb = cv.imread(IMAGES_PATH + \"lab.png\")\n",
    "labrotated = cv.imread(IMAGES_PATH + \"labrotated.png\", cv.IMREAD_GRAYSCALE)\n",
    "labrotatedRgb = cv.imread(IMAGES_PATH + \"labrotated.png\")\n"
   ]
  },
  {
   "cell_type": "code",
   "execution_count": 288,
   "metadata": {},
   "outputs": [],
   "source": [
    "def max_n_dots(image, imageRgb, max_dots=10, window_size=10):\n",
    "    index_10 = np.argpartition(image.ravel(), -max_dots)[-max_dots:]\n",
    "    x_index = index_10 // image.shape[0]\n",
    "    y_index = index_10 % image.shape[1]\n",
    "    for i in range(len(x_index)):\n",
    "        x = x_index[i]\n",
    "        y = y_index[i]\n",
    "        cv.circle(imageRgb, (y, x), 1, (0, 0, 255), 2)\n",
    "    return imageRgb"
   ]
  },
  {
   "cell_type": "code",
   "execution_count": 289,
   "metadata": {},
   "outputs": [],
   "source": [
    "def nonmax_suppression(output, nonmax=5):\n",
    "    hf = nonmax // 2\n",
    "    for x in range(hf, output.shape[0]-hf): # x direction, -u is here for not going beyond the borders\n",
    "        for y in range(hf, output.shape[1]-hf):   # y direction. same for -v\n",
    "            neighborhood = output[x-hf:x+hf+1, y-hf:y+hf+1]\n",
    "            maxima = np.argmax(neighborhood)\n",
    "            xind = maxima // nonmax\n",
    "            yind = maxima % nonmax\n",
    "            # neighborhood = neighborhood.ravel()\n",
    "            for i in range(nonmax):\n",
    "                for j in range(nonmax):\n",
    "                    if i != xind or j != yind:\n",
    "                        neighborhood[i,j] = 0\n",
    "    return output"
   ]
  },
  {
   "attachments": {},
   "cell_type": "markdown",
   "metadata": {},
   "source": [
    "### Task 1: Naive Formula + Uniform Weighting"
   ]
  },
  {
   "cell_type": "code",
   "execution_count": 290,
   "metadata": {},
   "outputs": [],
   "source": [
    "def task1(image, imageRgb, wsize):    # window = wsize x wsize\n",
    "    img = image.copy()\n",
    "    imgRgb = imageRgb.copy()\n",
    "    output = np.zeros((img.shape[0], img.shape[1]), np.float32)\n",
    "    hf = wsize//2\n",
    "    for x in range(hf+1, img.shape[0]-hf-1): # x direction, -u is here for not going beyond the borders\n",
    "        for y in range(hf+1, img.shape[1]-hf-1):   # y direction. same for -v\n",
    "            x_ind1, x_ind2 = x-hf, x+hf+1\n",
    "            y_ind1, y_ind2 = y-hf, y+hf+1\n",
    "            window = img[x_ind1:x_ind2, y_ind1:y_ind2]  # exclude hf + 1\n",
    "            E = 0\n",
    "            for u in [-1,0,1]:\n",
    "                for v in [-1,0,1]:\n",
    "                    if u == 0 and v == 0:\n",
    "                        continue\n",
    "                    E += np.sum(np.square(img[x_ind1+u:x_ind2+u, y_ind1+v:y_ind2+v] - window))\n",
    "            output[x, y] = E\n",
    "    return max_n_dots(output, imgRgb)"
   ]
  },
  {
   "cell_type": "code",
   "execution_count": 291,
   "metadata": {},
   "outputs": [
    {
     "data": {
      "text/plain": [
       "True"
      ]
     },
     "execution_count": 291,
     "metadata": {},
     "output_type": "execute_result"
    }
   ],
   "source": [
    "aret = task1(agac, agacRgb, wsize=3)\n",
    "cv.imwrite(OUTPUT_PATH + \"task1_agac.png\", aret)\n",
    "\n",
    "arret = task1(agacrotated, agacrotatedRgb, wsize=3)\n",
    "cv.imwrite(OUTPUT_PATH + \"task1_agacrotated.png\", arret)\n",
    "\n",
    "cret = task1(chessboard, chessboardRgb, wsize=3)\n",
    "cv.imwrite(OUTPUT_PATH + \"task1_chessboard.png\", cret)\n",
    "\n",
    "crret = task1(chessboardrotated, chessboardrotatedRgb, wsize=3)\n",
    "cv.imwrite(OUTPUT_PATH + \"task1_chessboardrotated.png\", crret)\n",
    "\n",
    "lret = task1(lab, labRgb, wsize=3)\n",
    "cv.imwrite(OUTPUT_PATH + \"task1_lab.png\", lret)\n",
    "\n",
    "lrret = task1(labrotated, labrotatedRgb, wsize=3)\n",
    "cv.imwrite(OUTPUT_PATH + \"task1_labrotated.png\", lrret)"
   ]
  },
  {
   "attachments": {},
   "cell_type": "markdown",
   "metadata": {},
   "source": [
    "### TASK1 Discussion\n",
    "\n",
    "- Formula in slide 24 is implemented.\n",
    "\n",
    "- **Time elpased:** 26.8 s\n",
    "\n",
    "![agac](outputs/task1_agac.png) ![agacRotated](outputs/task1_agacrotated.png)\n",
    "\n",
    "\n",
    "![chessboard](outputs/task1_chessboard.png) ![chessboardrotated](outputs/task1_chessboardrotated.png)\n",
    "\n",
    "\n",
    "![lab](outputs/task1_lab.png) ![labrotated](outputs/task1_labrotated.png)\n",
    "\n"
   ]
  },
  {
   "cell_type": "markdown",
   "metadata": {},
   "source": [
    "### Task2: Naive Formula + Uniform Weighting + Non-Maximum Suppression"
   ]
  },
  {
   "cell_type": "code",
   "execution_count": 292,
   "metadata": {},
   "outputs": [],
   "source": [
    "def task2(image, imageRgb, wsize, nonmax=5):    # window = wsize x wsize\n",
    "    # construct new images from the input image both rgb and grayscale\n",
    "    img = np.array(image)\n",
    "    imgRgb = np.array(imageRgb)\n",
    "    # create an output image\n",
    "    output = np.zeros((img.shape[0], img.shape[1]), np.float32)\n",
    "    hf = wsize//2   # half of the window size\n",
    "    for x in range(hf+1, img.shape[0]-hf-1):        # x direction, hf logic is here for not going beyond the borders\n",
    "        for y in range(hf+1, img.shape[1]-hf-1):    # y direction. same for hf\n",
    "            x_ind1, x_ind2 = x-hf, x+hf+1\n",
    "            y_ind1, y_ind2 = y-hf, y+hf+1\n",
    "            window = img[x_ind1:x_ind2, y_ind1:y_ind2]  # exclude hf + 1\n",
    "            E = 0\n",
    "\t\t\t# Slide in each 8 directions and calculate the sum of the squared differences\n",
    "            for u in [-1,0,1]:\n",
    "                for v in [-1,0,1]:\n",
    "                    if u == 0 and v == 0:\n",
    "                        continue\n",
    "                    E += np.sum(np.square(img[x_ind1+u:x_ind2+u, y_ind1+v:y_ind2+v] - window))\n",
    "            output[x, y] = E\n",
    "    # # # Non-maximum suppression\n",
    "    output = nonmax_suppression(output)\n",
    "    return max_n_dots(output, imgRgb)"
   ]
  },
  {
   "cell_type": "code",
   "execution_count": 293,
   "metadata": {},
   "outputs": [
    {
     "data": {
      "text/plain": [
       "True"
      ]
     },
     "execution_count": 293,
     "metadata": {},
     "output_type": "execute_result"
    }
   ],
   "source": [
    "aret = task2(agac, agacRgb, wsize=3)\n",
    "cv.imwrite(OUTPUT_PATH + \"task2_agac.png\", aret)\n",
    "\n",
    "arret = task2(agacrotated, agacrotatedRgb, wsize=3)\n",
    "cv.imwrite(OUTPUT_PATH + \"task2_agacrotated.png\", arret)\n",
    "\n",
    "cret = task2(chessboard, chessboardRgb, wsize=3)\n",
    "cv.imwrite(OUTPUT_PATH + \"task2_chessboard.png\", cret)\n",
    "\n",
    "crret = task2(chessboardrotated, chessboardrotatedRgb, wsize=3)\n",
    "cv.imwrite(OUTPUT_PATH + \"task2_chessboardrotated.png\", crret)\n",
    "\n",
    "lret = task2(lab, labRgb, wsize=3)\n",
    "cv.imwrite(OUTPUT_PATH + \"task2_lab.png\", lret)\n",
    "\n",
    "lrret = task2(labrotated, labrotatedRgb, wsize=3)\n",
    "cv.imwrite(OUTPUT_PATH + \"task2_labrotated.png\", lrret)"
   ]
  },
  {
   "attachments": {},
   "cell_type": "markdown",
   "metadata": {},
   "source": [
    "### TASK2 Discussion\n",
    "\n",
    "- Formula in slide 24 is implemented.\n",
    "\n",
    "- Nonmaximum suppression enhanced the algorithm in terms of finding more edges.\n",
    "\n",
    "- **Time elpased:** 31.2 s\n",
    "\n",
    "![agac](outputs/task2_agac.png) ![agacRotated](outputs/task2_agacrotated.png)\n",
    "\n",
    "\n",
    "![chessboard](outputs/task2_chessboard.png) ![chessboardrotated](outputs/task2_chessboardrotated.png)\n",
    "\n",
    "\n",
    "![lab](outputs/task2_lab.png) ![labrotated](outputs/task2_labrotated.png)\n",
    "\n"
   ]
  },
  {
   "cell_type": "markdown",
   "metadata": {},
   "source": [
    "### Task3: Taylor's Approximation + Uniform Weighting + Non-Maximum Suppression"
   ]
  },
  {
   "cell_type": "code",
   "execution_count": 294,
   "metadata": {},
   "outputs": [],
   "source": [
    "def task3(image, imageRgb, wsize=5, nonmax=5, k=0.04):\n",
    "    # construct new images from the input image both rgb and grayscale\n",
    "\timg = np.array(image)\n",
    "\timgRgb = np.array(imageRgb)\n",
    "\t# find the gradients with sobel filter\n",
    "\tIx = cv.Sobel(img, cv.CV_64F, 1, 0)\n",
    "\tIy = cv.Sobel(img, cv.CV_64F, 0, 1)\n",
    "\tIxx = Ix * Ix\n",
    "\tIyy = Iy * Iy\n",
    "\tIxy = Ix * Iy\n",
    "\t# create an output image\n",
    "\toutput = np.zeros((img.shape[0], img.shape[1]), np.float32)\n",
    "\thf = wsize//2\t# half of the window size\n",
    "\tfor x in range(hf+1, img.shape[0]-hf-1):\n",
    "\t\tfor y in range(hf+1, img.shape[1]-hf-1):\n",
    "\t\t\tx_ind1, x_ind2 = x-hf, x+hf+1 \t# indices for the x direction\n",
    "\t\t\ty_ind1, y_ind2 = y-hf, y+hf+1\t# indices for the y direction\n",
    "\t\t\tIxIx = Ixx[x_ind1:x_ind2, y_ind1:y_ind2]\n",
    "\t\t\tIyIy = Iyy[x_ind1:x_ind2, y_ind1:y_ind2]\n",
    "\t\t\tIxIy = Ixy[x_ind1:x_ind2, y_ind1:y_ind2]\n",
    "\t\t\tH = np.array([[np.sum(IxIx), np.sum(IxIy)], [np.sum(IxIy), np.sum(IyIy)]])  # compute the sum of the squares of the gradients\n",
    "\t\t\tE = 0\n",
    "\t\t\t# Slide in each 8 directions and calculate the formula\n",
    "\t\t\tfor u in [-1,0,1]:\n",
    "\t\t\t\tfor v in [-1,0,1]:\n",
    "\t\t\t\t\tif u == 0 and v == 0:\n",
    "\t\t\t\t\t\tcontinue\n",
    "\t\t\t\t\t# E += sum ( [u,v] H [u,v]^T )\n",
    "\t\t\t\t\tE += np.matmul(\n",
    "\t\t\t\t\t\t[u,v], (np.matmul(H, \n",
    "\t\t\t\t\t\t\t\t\t\t\tnp.transpose([u,v]))))\n",
    "\t\t\toutput[x, y] = E\n",
    "\t# # Non-maximum suppression\n",
    "\toutput = nonmax_suppression(output)\n",
    "\treturn max_n_dots(output, imgRgb)"
   ]
  },
  {
   "cell_type": "code",
   "execution_count": 295,
   "metadata": {},
   "outputs": [
    {
     "data": {
      "text/plain": [
       "True"
      ]
     },
     "execution_count": 295,
     "metadata": {},
     "output_type": "execute_result"
    }
   ],
   "source": [
    "aret = task3(agac, agacRgb, nonmax=5)\n",
    "cv.imwrite(OUTPUT_PATH + \"task3_agac.png\", aret)\n",
    "\n",
    "arret = task3(agacrotated, agacrotatedRgb)\n",
    "cv.imwrite(OUTPUT_PATH + \"task3_agacrotated.png\", arret)\n",
    "\n",
    "cret = task3(chessboard, chessboardRgb)\n",
    "cv.imwrite(OUTPUT_PATH + \"task3_chessboard.png\", cret)\n",
    "\n",
    "crret = task3(chessboardrotated, chessboardrotatedRgb)\n",
    "cv.imwrite(OUTPUT_PATH + \"task3_chessboardrotated.png\", crret)\n",
    "\n",
    "lret = task3(lab, labRgb)\n",
    "cv.imwrite(OUTPUT_PATH + \"task3_lab.png\", lret)\n",
    "\n",
    "lrret = task3(labrotated, labrotatedRgb)\n",
    "cv.imwrite(OUTPUT_PATH + \"task3_labrotated.png\", lrret)\n"
   ]
  },
  {
   "attachments": {},
   "cell_type": "markdown",
   "metadata": {},
   "source": [
    "### TASK3 Discussion\n",
    "\n",
    "- Formula in slide 29 is implemented.\n",
    "\n",
    "- Taylor's approximation of the formula is used.\n",
    "\n",
    "- Nonmaximum suppression used.\n",
    "\n",
    "- **Time elpased:** 44.8 s\n",
    "\n",
    "![agac](outputs/task3_agac.png) ![agacRotated](outputs/task3_agacrotated.png)\n",
    "\n",
    "\n",
    "![chessboard](outputs/task3_chessboard.png) ![chessboardrotated](outputs/task3_chessboardrotated.png)\n",
    "\n",
    "\n",
    "![lab](outputs/task3_lab.png) ![labrotated](outputs/task3_labrotated.png)\n",
    "\n"
   ]
  },
  {
   "cell_type": "markdown",
   "metadata": {},
   "source": [
    "### Task 4: Smaller Eigenvalue as corner score + Uniform Weighting + Non-Maximum Suppression"
   ]
  },
  {
   "cell_type": "code",
   "execution_count": 296,
   "metadata": {},
   "outputs": [],
   "source": [
    "def task4(image, imageRgb, wsize=5, k=0.04, threshold=0.1):\n",
    "    # construct new images from the input image both rgb and grayscale\n",
    "\timg = np.array(image)\n",
    "\timgRgb = np.array(imageRgb)\n",
    "\t# find the gradients with sobel filter\n",
    "\tIx = cv.Sobel(img, cv.CV_64F, 1, 0)\n",
    "\tIy = cv.Sobel(img, cv.CV_64F, 0, 1)\n",
    "\tIxx = Ix * Ix\n",
    "\tIyy = Iy * Iy\n",
    "\tIxy = Ix * Iy\n",
    "\t# create an output image\n",
    "\toutput = np.zeros((img.shape[0], img.shape[1]), np.float32)\n",
    "\thf = wsize//2\t# half of the window size\n",
    "\tfor x in range(hf+1, img.shape[0]-hf-1):\n",
    "\t\tfor y in range(hf+1, img.shape[1]-hf-1):\n",
    "\t\t\tx_ind1, x_ind2 = x-hf, x+hf+1 \t# indices for the x direction\n",
    "\t\t\ty_ind1, y_ind2 = y-hf, y+hf+1\t# indices for the y direction\n",
    "\t\t\tIxIx = Ixx[x_ind1:x_ind2, y_ind1:y_ind2]\n",
    "\t\t\tIyIy = Iyy[x_ind1:x_ind2, y_ind1:y_ind2]\n",
    "\t\t\tIxIy = Ixy[x_ind1:x_ind2, y_ind1:y_ind2]\n",
    "\t\t\tH = np.array([[np.sum(IxIx), np.sum(IxIy)], [np.sum(IxIy), np.sum(IyIy)]])  # compute the sum of the squares of the gradients\n",
    "\t\t\t# No need to look for 8 regions, since we are only interested in the smaller eigenvalue\n",
    "\t\t\teig = np.min(np.linalg.eigvals(H)) # smallest eigenvalue of H\n",
    "\t\t\toutput[x, y] = eig if eig > threshold else 0\t\n",
    "\t# Non-maximum suppression\n",
    "\toutput = nonmax_suppression(output)\n",
    "\treturn max_n_dots(output, imgRgb)\t# return R"
   ]
  },
  {
   "cell_type": "code",
   "execution_count": 297,
   "metadata": {},
   "outputs": [
    {
     "data": {
      "text/plain": [
       "True"
      ]
     },
     "execution_count": 297,
     "metadata": {},
     "output_type": "execute_result"
    }
   ],
   "source": [
    "aret = task4(agac, agacRgb)\n",
    "cv.imwrite(OUTPUT_PATH + \"task4_agac.png\", aret)\n",
    "\n",
    "arret = task4(agacrotated, agacrotatedRgb)\n",
    "cv.imwrite(OUTPUT_PATH + \"task4_agacrotated.png\", arret)\n",
    "\n",
    "cret = task4(chessboard, chessboardRgb)\n",
    "cv.imwrite(OUTPUT_PATH + \"task4_chessboard.png\", cret)\n",
    "\n",
    "crret = task4(chessboardrotated, chessboardrotatedRgb)\n",
    "cv.imwrite(OUTPUT_PATH + \"task4_chessboardrotated.png\", crret)\n",
    "\n",
    "lret = task4(lab, labRgb)\n",
    "cv.imwrite(OUTPUT_PATH + \"task4_lab.png\", lret)\n",
    "\n",
    "lrret = task4(labrotated, labrotatedRgb)\n",
    "cv.imwrite(OUTPUT_PATH + \"task4_labrotated.png\", lrret)"
   ]
  },
  {
   "attachments": {},
   "cell_type": "markdown",
   "metadata": {},
   "source": [
    "### TASK4 Discussion\n",
    "\n",
    "- Formula in slide 40 is implemented.\n",
    "\n",
    "- H matrix of each pixel is found.\n",
    "\n",
    "- Minimum eigenvalue of each matrix is used to thresholding.\n",
    "\n",
    "- Nonmaximum suppression used.\n",
    "\n",
    "- **Time elpased:** 21.2 s\n",
    "\n",
    "![agac](outputs/task4_agac.png) ![agacRotated](outputs/task4_agacrotated.png)\n",
    "\n",
    "\n",
    "![chessboard](outputs/task4_chessboard.png) ![chessboardrotated](outputs/task4_chessboardrotated.png)\n",
    "\n",
    "\n",
    "![lab](outputs/task4_lab.png) ![labrotated](outputs/task4_labrotated.png)\n",
    "\n"
   ]
  },
  {
   "cell_type": "markdown",
   "metadata": {},
   "source": [
    "### Task 5: R function as corner score + Uniform Weighting + Non-Maximum Suppression"
   ]
  },
  {
   "cell_type": "code",
   "execution_count": 298,
   "metadata": {},
   "outputs": [],
   "source": [
    "def task5(image, imageRgb, wsize=5, k=0.04, threshold=0.01):\n",
    "    # construct new images from the input image both rgb and grayscale\n",
    "\timg = np.array(image)\n",
    "\timgRgb = np.array(imageRgb)\n",
    "\t# find gradients with sobel filter\n",
    "\tIx = cv.Sobel(img, cv.CV_64F, 1, 0)\n",
    "\tIy = cv.Sobel(img, cv.CV_64F, 0, 1)\n",
    "\tIxx = Ix * Ix\n",
    "\tIyy = Iy * Iy\n",
    "\tIxy = Ix * Iy\n",
    "\t# create an output image\n",
    "\toutput = np.zeros((img.shape[0], img.shape[1]), np.float32)\n",
    "\thf = wsize//2\t# half of the window size\n",
    "\tfor x in range(hf+1, img.shape[0]-hf-1):\n",
    "\t\tfor y in range(hf+1, img.shape[1]-hf-1):\n",
    "\t\t\tx_ind1, x_ind2 = x-hf, x+hf+1\t# indices for the x direction\n",
    "\t\t\ty_ind1, y_ind2 = y-hf, y+hf+1\t# indices for the y direction\n",
    "\t\t\tIxIx = np.sum(Ixx[x_ind1:x_ind2, y_ind1:y_ind2])\n",
    "\t\t\tIyIy = np.sum(Iyy[x_ind1:x_ind2, y_ind1:y_ind2])\n",
    "\t\t\tIxIy = np.sum(Ixy[x_ind1:x_ind2, y_ind1:y_ind2])\n",
    "\t\t\t# det(h) - k * trace(H)^2\n",
    "\t\t\tR = (IxIx * IyIy - IxIy * IxIy) - k * (IxIx + IyIy)**2\n",
    "\t\t\toutput[x, y] = R if R > threshold else 0\n",
    "\t# Non-maximum suppression\n",
    "\toutput = nonmax_suppression(output)\n",
    "\treturn max_n_dots(output, imgRgb)"
   ]
  },
  {
   "cell_type": "code",
   "execution_count": 299,
   "metadata": {},
   "outputs": [
    {
     "data": {
      "text/plain": [
       "True"
      ]
     },
     "execution_count": 299,
     "metadata": {},
     "output_type": "execute_result"
    }
   ],
   "source": [
    "aret = task5(agac, agacRgb)\n",
    "cv.imwrite(OUTPUT_PATH + \"task5_agac.png\", aret)\n",
    "\n",
    "arret = task5(agacrotated, agacrotatedRgb)\n",
    "cv.imwrite(OUTPUT_PATH + \"task5_agacrotated.png\", arret)\n",
    "\n",
    "cret = task5(chessboard, chessboardRgb)\n",
    "cv.imwrite(OUTPUT_PATH + \"task5_chessboard.png\", cret)\n",
    "\n",
    "crret = task5(chessboardrotated, chessboardrotatedRgb)\n",
    "cv.imwrite(OUTPUT_PATH + \"task5_chessboardrotated.png\", crret)\n",
    "\n",
    "lret = task5(lab, labRgb)\n",
    "cv.imwrite(OUTPUT_PATH + \"task5_lab.png\", lret)\n",
    "\n",
    "lrret = task5(labrotated, labrotatedRgb)\n",
    "cv.imwrite(OUTPUT_PATH + \"task5_labrotated.png\", lrret)"
   ]
  },
  {
   "attachments": {},
   "cell_type": "markdown",
   "metadata": {},
   "source": [
    "### TASK5 Discussion\n",
    "\n",
    "- Formula in slide 41 is implemented.\n",
    "\n",
    "- H matrix of each pixel is found.\n",
    "\n",
    "- R function is used to thresholding.\n",
    "\n",
    "- Nonmaximum suppression used.\n",
    "\n",
    "- **Time elpased:** 10.8 s\n",
    "\n",
    "![agac](outputs/task5_agac.png) ![agacRotated](outputs/task5_agacrotated.png)\n",
    "\n",
    "\n",
    "![chessboard](outputs/task5_chessboard.png) ![chessboardrotated](outputs/task5_chessboardrotated.png)\n",
    "\n",
    "\n",
    "![lab](outputs/task5_lab.png) ![labrotated](outputs/task5_labrotated.png)\n",
    "\n"
   ]
  },
  {
   "cell_type": "markdown",
   "metadata": {},
   "source": [
    "### Task 6: R function with fast windowing based on fitering + Uniform Weighting + Non-Maximum Suppression"
   ]
  },
  {
   "cell_type": "code",
   "execution_count": 300,
   "metadata": {},
   "outputs": [],
   "source": [
    "def task6(image, imageRgb, wsize=5, k=0.04):\n",
    "    # construct new images from the input image both rgb and grayscale\n",
    "\timg = np.array(image)\n",
    "\timgRgb = np.array(imageRgb)\n",
    "\t# find gradients with sobel filter\n",
    "\tIx = cv.Sobel(img, cv.CV_64F, 1, 0)\n",
    "\tIy = cv.Sobel(img, cv.CV_64F, 0, 1)\n",
    "\t# create an output image\n",
    "\toutput = np.zeros((img.shape[0], img.shape[1]), np.float32)\n",
    "\t# create a 2x2 matrix of the form:\n",
    "\t# Ix^2   IxIy\n",
    "\t# IxIy   Iy^2\n",
    "\tIxx = Ix * Ix\n",
    "\tIyy = Iy * Iy\n",
    "\tIxy = Ix * Iy\n",
    "\t# apply averaging filter to the gradients\n",
    "\tIxx = cv.filter2D(Ixx, -1, np.ones((wsize, wsize)))\n",
    "\tIyy = cv.filter2D(Iyy, -1, np.ones((wsize, wsize)))\n",
    "\tIxy = cv.filter2D(Ixy, -1, np.ones((wsize, wsize)))\n",
    "\t# R = det(h) - k * trace(H)^2\n",
    "\toutput = Ixx * Iyy - Ixy * Ixy - k * (Ixx + Iyy) * (Ixx + Iyy)\n",
    "\t# Non-maximum suppression\n",
    "\toutput = nonmax_suppression(output)\n",
    "\treturn max_n_dots(output, imgRgb)\t# return R"
   ]
  },
  {
   "cell_type": "code",
   "execution_count": 301,
   "metadata": {},
   "outputs": [
    {
     "data": {
      "text/plain": [
       "True"
      ]
     },
     "execution_count": 301,
     "metadata": {},
     "output_type": "execute_result"
    }
   ],
   "source": [
    "aret = task6(agac, agacRgb)\n",
    "cv.imwrite(OUTPUT_PATH + \"task6_agac.png\", aret)\n",
    "\n",
    "arret = task6(agacrotated, agacrotatedRgb)\n",
    "cv.imwrite(OUTPUT_PATH + \"task6_agacrotated.png\", arret)\n",
    "\n",
    "cret = task6(chessboard, chessboardRgb)\n",
    "cv.imwrite(OUTPUT_PATH + \"task6_chessboard.png\", cret)\n",
    "\n",
    "crret = task6(chessboardrotated, chessboardrotatedRgb)\n",
    "cv.imwrite(OUTPUT_PATH + \"task6_chessboardrotated.png\", crret)\n",
    "\n",
    "lret = task6(lab, labRgb)\n",
    "cv.imwrite(OUTPUT_PATH + \"task6_lab.png\", lret)\n",
    "\n",
    "lrret = task6(labrotated, labrotatedRgb)\n",
    "cv.imwrite(OUTPUT_PATH + \"task6_labrotated.png\", lrret)"
   ]
  },
  {
   "attachments": {},
   "cell_type": "markdown",
   "metadata": {},
   "source": [
    "### TASK6 Discussion\n",
    "\n",
    "- Formula in slide 51-52 is implemented with option 1.\n",
    "\n",
    "- One H matrix of whole image is found.\n",
    "\n",
    "- Uniform averaging implemented on H matrix.\n",
    "\n",
    "- R function is used to thresholding.\n",
    "\n",
    "- Nonmaximum suppression used.\n",
    "\n",
    "- **Time elpased:** 4.6 s\n",
    "\n",
    "![agac](outputs/task6_agac.png) ![agacRotated](outputs/task6_agacrotated.png)\n",
    "\n",
    "\n",
    "![chessboard](outputs/task6_chessboard.png) ![chessboardrotated](outputs/task6_chessboardrotated.png)\n",
    "\n",
    "\n",
    "![lab](outputs/task6_lab.png) ![labrotated](outputs/task6_labrotated.png)\n",
    "\n"
   ]
  },
  {
   "cell_type": "markdown",
   "metadata": {},
   "source": [
    "### Task 7: R function with fast windowing based on fitering + Gaussian Weighting + Non-Maximum Suppression"
   ]
  },
  {
   "cell_type": "code",
   "execution_count": 302,
   "metadata": {},
   "outputs": [],
   "source": [
    "def task7(image, imageRgb, wsize=5, k=0.04):\n",
    "    # construct new images from the input image both rgb and grayscale\n",
    "    img = np.array(image)\n",
    "    imgRgb = np.array(imageRgb)\n",
    "    # find gradients with sobel filter\n",
    "    Ix = cv.Sobel(img, cv.CV_64F, 1, 0)\n",
    "    Iy = cv.Sobel(img, cv.CV_64F, 0, 1)\n",
    "    # create an output image\n",
    "    output = np.zeros((img.shape[0], img.shape[1]), np.float32)\n",
    "    # create a 2x2 matrix of the form:\n",
    "    # Ix^2   IxIy\n",
    "    # IxIy   Iy^2\n",
    "    Ixx = Ix * Ix\n",
    "    Iyy = Iy * Iy\n",
    "    Ixy = Ix * Iy\n",
    "    # apply gaussian filter to the gradients\n",
    "    Ixx = cv.GaussianBlur(Ixx, (wsize, wsize), 0)\n",
    "    Iyy = cv.GaussianBlur(Iyy, (wsize, wsize), 0)\n",
    "    Ixy = cv.GaussianBlur(Ixy, (wsize, wsize), 0)\n",
    "    # R = det(h) - k * trace(H)^2\n",
    "    output = Ixx * Iyy - Ixy * Ixy - k * (Ixx + Iyy) * (Ixx + Iyy)\n",
    "    # Non-maximum suppression\n",
    "    output = nonmax_suppression(output)\n",
    "    return max_n_dots(output, imgRgb)\t# return R"
   ]
  },
  {
   "cell_type": "code",
   "execution_count": 303,
   "metadata": {},
   "outputs": [
    {
     "data": {
      "text/plain": [
       "True"
      ]
     },
     "execution_count": 303,
     "metadata": {},
     "output_type": "execute_result"
    }
   ],
   "source": [
    "aret = task7(agac, agacRgb)\n",
    "cv.imwrite(OUTPUT_PATH + \"task7_agac.png\", aret)\n",
    "\n",
    "arret = task7(agacrotated, agacrotatedRgb)\n",
    "cv.imwrite(OUTPUT_PATH + \"task7_agacrotated.png\", arret)\n",
    "\n",
    "cret = task7(chessboard, chessboardRgb)\n",
    "cv.imwrite(OUTPUT_PATH + \"task7_chessboard.png\", cret)\n",
    "\n",
    "crret = task7(chessboardrotated, chessboardrotatedRgb)\n",
    "cv.imwrite(OUTPUT_PATH + \"task7_chessboardrotated.png\", crret)\n",
    "\n",
    "lret = task7(lab, labRgb)\n",
    "cv.imwrite(OUTPUT_PATH + \"task7_lab.png\", lret)\n",
    "\n",
    "lrret = task7(labrotated, labrotatedRgb)\n",
    "cv.imwrite(OUTPUT_PATH + \"task7_labrotated.png\", lrret)"
   ]
  },
  {
   "attachments": {},
   "cell_type": "markdown",
   "metadata": {},
   "source": [
    "### TASK7 Discussion\n",
    "\n",
    "- Formula in slide 51-52 is implemented with option 2.\n",
    "\n",
    "- One H matrix of whole image is found.\n",
    "\n",
    "- Gaussian averaging implemented on H matrix.\n",
    "\n",
    "- R function is used to thresholding.\n",
    "\n",
    "- Nonmaximum suppression used.\n",
    "\n",
    "- **Time elpased:** 4.6 s\n",
    "\n",
    "![agac](outputs/task7_agac.png) ![agacRotated](outputs/task7_agacrotated.png)\n",
    "\n",
    "\n",
    "![chessboard](outputs/task7_chessboard.png) ![chessboardrotated](outputs/task7_chessboardrotated.png)\n",
    "\n",
    "\n",
    "![lab](outputs/task7_lab.png) ![labrotated](outputs/task7_labrotated.png)\n",
    "\n"
   ]
  },
  {
   "attachments": {},
   "cell_type": "markdown",
   "metadata": {},
   "source": [
    "### Conclusion\n",
    "\n",
    "We obtained that by increasing in the tasks our algorithms became **more efficient** and **faster**.\n",
    "\n",
    "Although nonmaximum suppression brings **more computation cost**, we can say that nonmaximum suppression gives us **more precise** corners rather than not using nonmaximum suppression.\n",
    "\n",
    "We can say that ***Taylor's approximation*** increases the number of operations to make. Instead of taking square differences we make matrix multiplication. Hence the process **decelerates**. However, in my opinion, our algorithm has a better structure now, with matrix operations. In the following steps, by using Taylor's approach we will derive more efficient algorithms.\n",
    "\n",
    "We can say that using ***minimum eigenvalue*** *(i.e. Shi-Tomasi Method)* to detect corners is **more efficient** than using only Taylor's approximation in terms of computation and preciseness.\n",
    "\n",
    "We can say that using ***R function*** as corner score is **more precise** and **faster** method than ***Shi-Tomasi*** method.\n",
    "\n",
    "Finally, we can say that using ***fast windowing*** method **accelerates** te process at most."
   ]
  }
 ],
 "metadata": {
  "kernelspec": {
   "display_name": "Python 3 (ipykernel)",
   "language": "python",
   "name": "python3"
  },
  "language_info": {
   "codemirror_mode": {
    "name": "ipython",
    "version": 3
   },
   "file_extension": ".py",
   "mimetype": "text/x-python",
   "name": "python",
   "nbconvert_exporter": "python",
   "pygments_lexer": "ipython3",
   "version": "3.10.9"
  },
  "vscode": {
   "interpreter": {
    "hash": "360a77f631303e7a98d723c45f331b430aed2d71bc56c46c82818f195b4ba1c0"
   }
  }
 },
 "nbformat": 4,
 "nbformat_minor": 2
}
